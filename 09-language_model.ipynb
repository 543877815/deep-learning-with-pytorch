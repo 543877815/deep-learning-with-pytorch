{
 "cells": [
  {
   "cell_type": "code",
   "execution_count": 0,
   "metadata": {
    "colab": {
     "base_uri": "https://localhost:8080/",
     "height": 127
    },
    "colab_type": "code",
    "executionInfo": {
     "elapsed": 20461,
     "status": "ok",
     "timestamp": 1576496414685,
     "user": {
      "displayName": "李逢君",
      "photoUrl": "",
      "userId": "18366437668309960801"
     },
     "user_tz": -480
    },
    "id": "VAA1EY0ggZBy",
    "outputId": "e9a62582-dd6d-4c3e-8a7f-b625da3ee471"
   },
   "outputs": [
    {
     "name": "stdout",
     "output_type": "stream",
     "text": [
      "Go to this URL in a browser: https://accounts.google.com/o/oauth2/auth?client_id=947318989803-6bn6qk8qdgf4n4g3pfee6491hc0brc4i.apps.googleusercontent.com&redirect_uri=urn%3aietf%3awg%3aoauth%3a2.0%3aoob&response_type=code&scope=email%20https%3a%2f%2fwww.googleapis.com%2fauth%2fdocs.test%20https%3a%2f%2fwww.googleapis.com%2fauth%2fdrive%20https%3a%2f%2fwww.googleapis.com%2fauth%2fdrive.photos.readonly%20https%3a%2f%2fwww.googleapis.com%2fauth%2fpeopleapi.readonly\n",
      "\n",
      "Enter your authorization code:\n",
      "··········\n",
      "Mounted at /content/drive/\n"
     ]
    }
   ],
   "source": [
    "from google.colab import drive\n",
    "drive.mount('/content/drive/')"
   ]
  },
  {
   "cell_type": "code",
   "execution_count": 0,
   "metadata": {
    "colab": {
     "base_uri": "https://localhost:8080/",
     "height": 35
    },
    "colab_type": "code",
    "executionInfo": {
     "elapsed": 736,
     "status": "ok",
     "timestamp": 1576496424444,
     "user": {
      "displayName": "李逢君",
      "photoUrl": "",
      "userId": "18366437668309960801"
     },
     "user_tz": -480
    },
    "id": "yBX5sir6gfXJ",
    "outputId": "cada4c62-1882-4026-c2db-00d6dfb5856e"
   },
   "outputs": [
    {
     "name": "stdout",
     "output_type": "stream",
     "text": [
      "/content/drive\n"
     ]
    }
   ],
   "source": [
    "cd drive"
   ]
  },
  {
   "cell_type": "code",
   "execution_count": 0,
   "metadata": {
    "colab": {
     "base_uri": "https://localhost:8080/",
     "height": 35
    },
    "colab_type": "code",
    "executionInfo": {
     "elapsed": 790,
     "status": "ok",
     "timestamp": 1576496439780,
     "user": {
      "displayName": "李逢君",
      "photoUrl": "",
      "userId": "18366437668309960801"
     },
     "user_tz": -480
    },
    "id": "xKMbGYpjgfaX",
    "outputId": "e7732442-bea2-4b76-86c9-4afcc44d6859"
   },
   "outputs": [
    {
     "name": "stdout",
     "output_type": "stream",
     "text": [
      "/content/drive/My Drive\n"
     ]
    }
   ],
   "source": [
    "cd 'My Drive'/ "
   ]
  },
  {
   "cell_type": "code",
   "execution_count": 0,
   "metadata": {
    "colab": {
     "base_uri": "https://localhost:8080/",
     "height": 35
    },
    "colab_type": "code",
    "executionInfo": {
     "elapsed": 749,
     "status": "ok",
     "timestamp": 1576496454986,
     "user": {
      "displayName": "李逢君",
      "photoUrl": "",
      "userId": "18366437668309960801"
     },
     "user_tz": -480
    },
    "id": "enGoJirFgsKA",
    "outputId": "78d442bb-2ed5-4056-de86-3e0745ada6aa"
   },
   "outputs": [
    {
     "name": "stdout",
     "output_type": "stream",
     "text": [
      "/content/drive/My Drive/pytorch-tutorial\n"
     ]
    }
   ],
   "source": [
    "cd pytorch-tutorial/"
   ]
  },
  {
   "cell_type": "code",
   "execution_count": 0,
   "metadata": {
    "colab": {},
    "colab_type": "code",
    "id": "7zprNgDfe1yo"
   },
   "outputs": [],
   "source": [
    "import torch\n",
    "import os\n",
    "\n",
    "\n",
    "class Dictionary(object):\n",
    "    def __init__(self):\n",
    "        self.word2idx = {}\n",
    "        self.idx2word = {}\n",
    "        self.idx = 0\n",
    "    \n",
    "    def add_word(self, word):\n",
    "        if not word in self.word2idx:\n",
    "            self.word2idx[word] = self.idx\n",
    "            self.idx2word[self.idx] = word\n",
    "            self.idx += 1\n",
    "    \n",
    "    def __len__(self):\n",
    "        return len(self.word2idx)\n",
    "\n",
    "\n",
    "class Corpus(object):\n",
    "    def __init__(self):\n",
    "        self.dictionary = Dictionary()\n",
    "\n",
    "    def get_data(self, path, batch_size=20):\n",
    "        # Add words to the dictionary\n",
    "        with open(path, 'r') as f:\n",
    "            tokens = 0\n",
    "            for line in f:\n",
    "                words = line.split() + ['<eos>']\n",
    "                tokens += len(words)\n",
    "                for word in words: \n",
    "                    self.dictionary.add_word(word)  \n",
    "        \n",
    "        # Tokenize the file content\n",
    "        ids = torch.LongTensor(tokens)\n",
    "        token = 0\n",
    "        with open(path, 'r') as f:\n",
    "            for line in f:\n",
    "                words = line.split() + ['<eos>']\n",
    "                for word in words:\n",
    "                    ids[token] = self.dictionary.word2idx[word]\n",
    "                    token += 1\n",
    "        num_batches = ids.size(0) // batch_size\n",
    "        ids = ids[:num_batches*batch_size]\n",
    "        return ids.view(batch_size, -1)"
   ]
  },
  {
   "cell_type": "code",
   "execution_count": 0,
   "metadata": {
    "colab": {
     "base_uri": "https://localhost:8080/",
     "height": 1000
    },
    "colab_type": "code",
    "id": "YLVtyehI0Bz-",
    "outputId": "3f8aca3e-e923-418f-b295-3f9b8cdc088d"
   },
   "outputs": [
    {
     "name": "stdout",
     "output_type": "stream",
     "text": [
      "Epoch [1/5], Step[0/1549], Loss: 9.2115, Perplexity: 10011.87\n",
      "Epoch [1/5], Step[100/1549], Loss: 6.0239, Perplexity: 413.18\n",
      "Epoch [1/5], Step[200/1549], Loss: 5.9114, Perplexity: 369.21\n",
      "Epoch [1/5], Step[300/1549], Loss: 5.7360, Perplexity: 309.83\n",
      "Epoch [1/5], Step[400/1549], Loss: 5.6605, Perplexity: 287.29\n",
      "Epoch [1/5], Step[500/1549], Loss: 5.1137, Perplexity: 166.29\n",
      "Epoch [1/5], Step[600/1549], Loss: 5.1822, Perplexity: 178.07\n",
      "Epoch [1/5], Step[700/1549], Loss: 5.3429, Perplexity: 209.13\n",
      "Epoch [1/5], Step[800/1549], Loss: 5.1880, Perplexity: 179.12\n",
      "Epoch [1/5], Step[900/1549], Loss: 5.0491, Perplexity: 155.88\n",
      "Epoch [1/5], Step[1000/1549], Loss: 5.1064, Perplexity: 165.07\n",
      "Epoch [1/5], Step[1100/1549], Loss: 5.3850, Perplexity: 218.10\n",
      "Epoch [1/5], Step[1200/1549], Loss: 5.1697, Perplexity: 175.87\n",
      "Epoch [1/5], Step[1300/1549], Loss: 5.0704, Perplexity: 159.24\n",
      "Epoch [1/5], Step[1400/1549], Loss: 4.8336, Perplexity: 125.67\n",
      "Epoch [1/5], Step[1500/1549], Loss: 5.1222, Perplexity: 167.70\n",
      "Epoch [2/5], Step[0/1549], Loss: 5.4259, Perplexity: 227.22\n",
      "Epoch [2/5], Step[100/1549], Loss: 4.5494, Perplexity: 94.57\n",
      "Epoch [2/5], Step[200/1549], Loss: 4.6927, Perplexity: 109.14\n",
      "Epoch [2/5], Step[300/1549], Loss: 4.6150, Perplexity: 100.99\n",
      "Epoch [2/5], Step[400/1549], Loss: 4.4869, Perplexity: 88.85\n",
      "Epoch [2/5], Step[500/1549], Loss: 4.1238, Perplexity: 61.79\n",
      "Epoch [2/5], Step[600/1549], Loss: 4.3997, Perplexity: 81.43\n",
      "Epoch [2/5], Step[700/1549], Loss: 4.3808, Perplexity: 79.91\n",
      "Epoch [2/5], Step[800/1549], Loss: 4.4538, Perplexity: 85.95\n",
      "Epoch [2/5], Step[900/1549], Loss: 4.1924, Perplexity: 66.18\n",
      "Epoch [2/5], Step[1000/1549], Loss: 4.3033, Perplexity: 73.94\n",
      "Epoch [2/5], Step[1100/1549], Loss: 4.5637, Perplexity: 95.94\n",
      "Epoch [2/5], Step[1200/1549], Loss: 4.4563, Perplexity: 86.16\n",
      "Epoch [2/5], Step[1300/1549], Loss: 4.2120, Perplexity: 67.49\n",
      "Epoch [2/5], Step[1400/1549], Loss: 3.9896, Perplexity: 54.03\n",
      "Epoch [2/5], Step[1500/1549], Loss: 4.2672, Perplexity: 71.32\n",
      "Epoch [3/5], Step[0/1549], Loss: 4.4434, Perplexity: 85.06\n",
      "Epoch [3/5], Step[100/1549], Loss: 3.8604, Perplexity: 47.48\n",
      "Epoch [3/5], Step[200/1549], Loss: 4.0746, Perplexity: 58.83\n",
      "Epoch [3/5], Step[300/1549], Loss: 3.9157, Perplexity: 50.19\n",
      "Epoch [3/5], Step[400/1549], Loss: 3.7769, Perplexity: 43.68\n",
      "Epoch [3/5], Step[500/1549], Loss: 3.3754, Perplexity: 29.24\n",
      "Epoch [3/5], Step[600/1549], Loss: 3.7750, Perplexity: 43.60\n",
      "Epoch [3/5], Step[700/1549], Loss: 3.7320, Perplexity: 41.76\n",
      "Epoch [3/5], Step[800/1549], Loss: 3.7918, Perplexity: 44.34\n",
      "Epoch [3/5], Step[900/1549], Loss: 3.5036, Perplexity: 33.23\n",
      "Epoch [3/5], Step[1000/1549], Loss: 3.6338, Perplexity: 37.86\n",
      "Epoch [3/5], Step[1100/1549], Loss: 3.8524, Perplexity: 47.11\n",
      "Epoch [3/5], Step[1200/1549], Loss: 3.7921, Perplexity: 44.35\n",
      "Epoch [3/5], Step[1300/1549], Loss: 3.5155, Perplexity: 33.63\n",
      "Epoch [3/5], Step[1400/1549], Loss: 3.2402, Perplexity: 25.54\n",
      "Epoch [3/5], Step[1500/1549], Loss: 3.5635, Perplexity: 35.29\n",
      "Epoch [4/5], Step[0/1549], Loss: 3.6553, Perplexity: 38.68\n",
      "Epoch [4/5], Step[100/1549], Loss: 3.2838, Perplexity: 26.68\n",
      "Epoch [4/5], Step[200/1549], Loss: 3.5659, Perplexity: 35.37\n",
      "Epoch [4/5], Step[300/1549], Loss: 3.4328, Perplexity: 30.96\n",
      "Epoch [4/5], Step[400/1549], Loss: 3.2357, Perplexity: 25.42\n",
      "Epoch [4/5], Step[500/1549], Loss: 2.8645, Perplexity: 17.54\n",
      "Epoch [4/5], Step[600/1549], Loss: 3.3530, Perplexity: 28.59\n",
      "Epoch [4/5], Step[700/1549], Loss: 3.2639, Perplexity: 26.15\n",
      "Epoch [4/5], Step[800/1549], Loss: 3.3153, Perplexity: 27.53\n",
      "Epoch [4/5], Step[900/1549], Loss: 2.9581, Perplexity: 19.26\n",
      "Epoch [4/5], Step[1000/1549], Loss: 3.1646, Perplexity: 23.68\n",
      "Epoch [4/5], Step[1100/1549], Loss: 3.2858, Perplexity: 26.73\n",
      "Epoch [4/5], Step[1200/1549], Loss: 3.3010, Perplexity: 27.14\n",
      "Epoch [4/5], Step[1300/1549], Loss: 2.9998, Perplexity: 20.08\n",
      "Epoch [4/5], Step[1400/1549], Loss: 2.7143, Perplexity: 15.09\n",
      "Epoch [4/5], Step[1500/1549], Loss: 3.0667, Perplexity: 21.47\n",
      "Epoch [5/5], Step[0/1549], Loss: 3.1223, Perplexity: 22.70\n",
      "Epoch [5/5], Step[100/1549], Loss: 3.0063, Perplexity: 20.21\n",
      "Epoch [5/5], Step[200/1549], Loss: 3.1982, Perplexity: 24.49\n",
      "Epoch [5/5], Step[300/1549], Loss: 3.0655, Perplexity: 21.45\n",
      "Epoch [5/5], Step[400/1549], Loss: 2.8792, Perplexity: 17.80\n",
      "Epoch [5/5], Step[500/1549], Loss: 2.5370, Perplexity: 12.64\n",
      "Epoch [5/5], Step[600/1549], Loss: 3.0265, Perplexity: 20.62\n"
     ]
    }
   ],
   "source": [
    "# Some part of the code was referenced from below.\n",
    "# https://github.com/pytorch/examples/tree/master/word_language_model \n",
    "import torch\n",
    "import torch.nn as nn\n",
    "import numpy as np\n",
    "from torch.nn.utils import clip_grad_norm_\n",
    "# from data_utils import Dictionary, Corpus\n",
    "\n",
    "\n",
    "# Device configuration\n",
    "device = torch.device('cuda' if torch.cuda.is_available() else 'cpu')\n",
    "\n",
    "# Hyper-parameters\n",
    "embed_size = 128\n",
    "hidden_size = 1024\n",
    "num_layers = 1\n",
    "num_epochs = 5\n",
    "num_samples = 1000     # number of words to be sampled\n",
    "batch_size = 20\n",
    "seq_length = 30\n",
    "learning_rate = 0.002\n",
    "\n",
    "# Load \"Penn Treebank\" dataset\n",
    "corpus = Corpus()\n",
    "ids = corpus.get_data('data/train.txt', batch_size)\n",
    "vocab_size = len(corpus.dictionary)\n",
    "num_batches = ids.size(1) // seq_length\n",
    "\n",
    "\n",
    "# RNN based language model\n",
    "class RNNLM(nn.Module):\n",
    "    def __init__(self, vocab_size, embed_size, hidden_size, num_layers):\n",
    "        super(RNNLM, self).__init__()\n",
    "        self.embed = nn.Embedding(vocab_size, embed_size)\n",
    "        self.lstm = nn.LSTM(embed_size, hidden_size, num_layers, batch_first=True)\n",
    "        self.linear = nn.Linear(hidden_size, vocab_size)\n",
    "        \n",
    "    def forward(self, x, h):\n",
    "        # Embed word ids to vectors\n",
    "        x = self.embed(x)\n",
    "        \n",
    "        # Forward propagate LSTM\n",
    "        out, (h, c) = self.lstm(x, h)\n",
    "        \n",
    "        # Reshape output to (batch_size*sequence_length, hidden_size)\n",
    "        out = out.reshape(out.size(0)*out.size(1), out.size(2))\n",
    "        \n",
    "        # Decode hidden states of all time steps\n",
    "        out = self.linear(out)\n",
    "        return out, (h, c)\n",
    "\n",
    "model = RNNLM(vocab_size, embed_size, hidden_size, num_layers).to(device)\n",
    "\n",
    "# Loss and optimizer\n",
    "criterion = nn.CrossEntropyLoss()\n",
    "optimizer = torch.optim.Adam(model.parameters(), lr=learning_rate)\n",
    "\n",
    "# Truncated backpropagation\n",
    "def detach(states):\n",
    "    return [state.detach() for state in states] \n",
    "\n",
    "# Train the model\n",
    "for epoch in range(num_epochs):\n",
    "    # Set initial hidden and cell states\n",
    "    states = (torch.zeros(num_layers, batch_size, hidden_size).to(device),\n",
    "              torch.zeros(num_layers, batch_size, hidden_size).to(device))\n",
    "    \n",
    "    for i in range(0, ids.size(1) - seq_length, seq_length):\n",
    "        # Get mini-batch inputs and targets\n",
    "        inputs = ids[:, i:i+seq_length].to(device)\n",
    "        targets = ids[:, (i+1):(i+1)+seq_length].to(device)\n",
    "        \n",
    "        # Forward pass\n",
    "        states = detach(states)\n",
    "        outputs, states = model(inputs, states)\n",
    "        loss = criterion(outputs, targets.reshape(-1))\n",
    "        \n",
    "        # Backward and optimize\n",
    "        model.zero_grad()\n",
    "        loss.backward()\n",
    "        clip_grad_norm_(model.parameters(), 0.5)\n",
    "        optimizer.step()\n",
    "\n",
    "        step = (i+1) // seq_length\n",
    "        if step % 100 == 0:\n",
    "            print ('Epoch [{}/{}], Step[{}/{}], Loss: {:.4f}, Perplexity: {:5.2f}'\n",
    "                   .format(epoch+1, num_epochs, step, num_batches, loss.item(), np.exp(loss.item())))\n",
    "\n",
    "# Test the model\n",
    "with torch.no_grad():\n",
    "    with open('sample.txt', 'w') as f:\n",
    "        # Set intial hidden ane cell states\n",
    "        state = (torch.zeros(num_layers, 1, hidden_size).to(device),\n",
    "                 torch.zeros(num_layers, 1, hidden_size).to(device))\n",
    "\n",
    "        # Select one word id randomly\n",
    "        prob = torch.ones(vocab_size)\n",
    "        input = torch.multinomial(prob, num_samples=1).unsqueeze(1).to(device)\n",
    "\n",
    "        for i in range(num_samples):\n",
    "            # Forward propagate RNN \n",
    "            output, state = model(input, state)\n",
    "\n",
    "            # Sample a word id\n",
    "            prob = output.exp()\n",
    "            word_id = torch.multinomial(prob, num_samples=1).item()\n",
    "\n",
    "            # Fill input with sampled word id for the next time step\n",
    "            input.fill_(word_id)\n",
    "\n",
    "            # File write\n",
    "            word = corpus.dictionary.idx2word[word_id]\n",
    "            word = '\\n' if word == '<eos>' else word + ' '\n",
    "            f.write(word)\n",
    "\n",
    "            if (i+1) % 100 == 0:\n",
    "                print('Sampled [{}/{}] words and save to {}'.format(i+1, num_samples, 'sample.txt'))\n",
    "\n",
    "# Save the model checkpoints\n",
    "# torch.save(model.state_dict(), 'model.ckpt')"
   ]
  },
  {
   "cell_type": "code",
   "execution_count": 0,
   "metadata": {
    "colab": {},
    "colab_type": "code",
    "id": "70_gTFP4cJb1"
   },
   "outputs": [],
   "source": [
    ""
   ]
  }
 ],
 "metadata": {
  "colab": {
   "collapsed_sections": [],
   "name": "09-language_model.ipynb",
   "provenance": []
  },
  "kernelspec": {
   "display_name": "Python 3",
   "name": "python3"
  }
 },
 "nbformat": 4,
 "nbformat_minor": 0
}
